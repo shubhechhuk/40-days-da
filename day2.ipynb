{
 "cells": [
  {
   "cell_type": "code",
   "execution_count": 1,
   "id": "01cf4805",
   "metadata": {},
   "outputs": [],
   "source": [
    "#pandas \n",
    "import pandas as pd\n"
   ]
  },
  {
   "cell_type": "code",
   "execution_count": 4,
   "id": "3306d9a2",
   "metadata": {},
   "outputs": [],
   "source": [
    "df=pd.read_csv(\"air_pollution_data.csv\")"
   ]
  },
  {
   "cell_type": "code",
   "execution_count": 5,
   "id": "8eaa0ea1",
   "metadata": {},
   "outputs": [
    {
     "data": {
      "text/html": [
       "<div>\n",
       "<style scoped>\n",
       "    .dataframe tbody tr th:only-of-type {\n",
       "        vertical-align: middle;\n",
       "    }\n",
       "\n",
       "    .dataframe tbody tr th {\n",
       "        vertical-align: top;\n",
       "    }\n",
       "\n",
       "    .dataframe thead th {\n",
       "        text-align: right;\n",
       "    }\n",
       "</style>\n",
       "<table border=\"1\" class=\"dataframe\">\n",
       "  <thead>\n",
       "    <tr style=\"text-align: right;\">\n",
       "      <th></th>\n",
       "      <th>city</th>\n",
       "      <th>date</th>\n",
       "      <th>aqi</th>\n",
       "      <th>co</th>\n",
       "      <th>no</th>\n",
       "      <th>no2</th>\n",
       "      <th>o3</th>\n",
       "      <th>so2</th>\n",
       "      <th>pm2_5</th>\n",
       "      <th>pm10</th>\n",
       "      <th>nh3</th>\n",
       "    </tr>\n",
       "  </thead>\n",
       "  <tbody>\n",
       "    <tr>\n",
       "      <th>0</th>\n",
       "      <td>Ahmedabad</td>\n",
       "      <td>30-11-2020</td>\n",
       "      <td>5</td>\n",
       "      <td>520.71</td>\n",
       "      <td>2.38</td>\n",
       "      <td>16.28</td>\n",
       "      <td>130.18</td>\n",
       "      <td>47.68</td>\n",
       "      <td>65.96</td>\n",
       "      <td>72.13</td>\n",
       "      <td>8.36</td>\n",
       "    </tr>\n",
       "    <tr>\n",
       "      <th>1</th>\n",
       "      <td>Ahmedabad</td>\n",
       "      <td>01-12-2020</td>\n",
       "      <td>5</td>\n",
       "      <td>1682.28</td>\n",
       "      <td>7.71</td>\n",
       "      <td>54.84</td>\n",
       "      <td>0.73</td>\n",
       "      <td>21.70</td>\n",
       "      <td>120.95</td>\n",
       "      <td>154.53</td>\n",
       "      <td>27.36</td>\n",
       "    </tr>\n",
       "    <tr>\n",
       "      <th>2</th>\n",
       "      <td>Ahmedabad</td>\n",
       "      <td>02-12-2020</td>\n",
       "      <td>5</td>\n",
       "      <td>1815.80</td>\n",
       "      <td>16.54</td>\n",
       "      <td>49.35</td>\n",
       "      <td>0.17</td>\n",
       "      <td>23.84</td>\n",
       "      <td>133.47</td>\n",
       "      <td>172.63</td>\n",
       "      <td>28.12</td>\n",
       "    </tr>\n",
       "    <tr>\n",
       "      <th>3</th>\n",
       "      <td>Ahmedabad</td>\n",
       "      <td>03-12-2020</td>\n",
       "      <td>5</td>\n",
       "      <td>2296.45</td>\n",
       "      <td>41.57</td>\n",
       "      <td>40.10</td>\n",
       "      <td>0.00</td>\n",
       "      <td>35.76</td>\n",
       "      <td>150.37</td>\n",
       "      <td>202.15</td>\n",
       "      <td>36.48</td>\n",
       "    </tr>\n",
       "    <tr>\n",
       "      <th>4</th>\n",
       "      <td>Ahmedabad</td>\n",
       "      <td>04-12-2020</td>\n",
       "      <td>5</td>\n",
       "      <td>2189.64</td>\n",
       "      <td>23.92</td>\n",
       "      <td>58.95</td>\n",
       "      <td>0.02</td>\n",
       "      <td>28.13</td>\n",
       "      <td>160.79</td>\n",
       "      <td>205.80</td>\n",
       "      <td>40.53</td>\n",
       "    </tr>\n",
       "  </tbody>\n",
       "</table>\n",
       "</div>"
      ],
      "text/plain": [
       "        city        date  aqi       co     no    no2      o3    so2   pm2_5  \\\n",
       "0  Ahmedabad  30-11-2020    5   520.71   2.38  16.28  130.18  47.68   65.96   \n",
       "1  Ahmedabad  01-12-2020    5  1682.28   7.71  54.84    0.73  21.70  120.95   \n",
       "2  Ahmedabad  02-12-2020    5  1815.80  16.54  49.35    0.17  23.84  133.47   \n",
       "3  Ahmedabad  03-12-2020    5  2296.45  41.57  40.10    0.00  35.76  150.37   \n",
       "4  Ahmedabad  04-12-2020    5  2189.64  23.92  58.95    0.02  28.13  160.79   \n",
       "\n",
       "     pm10    nh3  \n",
       "0   72.13   8.36  \n",
       "1  154.53  27.36  \n",
       "2  172.63  28.12  \n",
       "3  202.15  36.48  \n",
       "4  205.80  40.53  "
      ]
     },
     "execution_count": 5,
     "metadata": {},
     "output_type": "execute_result"
    }
   ],
   "source": [
    "df.head()"
   ]
  },
  {
   "cell_type": "code",
   "execution_count": 6,
   "id": "5fc1e2f8",
   "metadata": {},
   "outputs": [
    {
     "data": {
      "text/html": [
       "<div>\n",
       "<style scoped>\n",
       "    .dataframe tbody tr th:only-of-type {\n",
       "        vertical-align: middle;\n",
       "    }\n",
       "\n",
       "    .dataframe tbody tr th {\n",
       "        vertical-align: top;\n",
       "    }\n",
       "\n",
       "    .dataframe thead th {\n",
       "        text-align: right;\n",
       "    }\n",
       "</style>\n",
       "<table border=\"1\" class=\"dataframe\">\n",
       "  <thead>\n",
       "    <tr style=\"text-align: right;\">\n",
       "      <th></th>\n",
       "      <th>aqi</th>\n",
       "      <th>co</th>\n",
       "      <th>no</th>\n",
       "      <th>no2</th>\n",
       "      <th>o3</th>\n",
       "      <th>so2</th>\n",
       "      <th>pm2_5</th>\n",
       "      <th>pm10</th>\n",
       "      <th>nh3</th>\n",
       "    </tr>\n",
       "  </thead>\n",
       "  <tbody>\n",
       "    <tr>\n",
       "      <th>count</th>\n",
       "      <td>23504.000000</td>\n",
       "      <td>23504.000000</td>\n",
       "      <td>23504.00000</td>\n",
       "      <td>23504.000000</td>\n",
       "      <td>23504.000000</td>\n",
       "      <td>23504.000000</td>\n",
       "      <td>23504.000000</td>\n",
       "      <td>23504.000000</td>\n",
       "      <td>23504.000000</td>\n",
       "    </tr>\n",
       "    <tr>\n",
       "      <th>mean</th>\n",
       "      <td>3.920354</td>\n",
       "      <td>1113.224543</td>\n",
       "      <td>6.00554</td>\n",
       "      <td>25.044104</td>\n",
       "      <td>35.059777</td>\n",
       "      <td>15.971449</td>\n",
       "      <td>98.598310</td>\n",
       "      <td>121.848091</td>\n",
       "      <td>12.060212</td>\n",
       "    </tr>\n",
       "    <tr>\n",
       "      <th>std</th>\n",
       "      <td>1.415490</td>\n",
       "      <td>1401.770372</td>\n",
       "      <td>24.50272</td>\n",
       "      <td>25.839242</td>\n",
       "      <td>31.901760</td>\n",
       "      <td>23.943464</td>\n",
       "      <td>135.572391</td>\n",
       "      <td>160.429589</td>\n",
       "      <td>17.544759</td>\n",
       "    </tr>\n",
       "    <tr>\n",
       "      <th>min</th>\n",
       "      <td>1.000000</td>\n",
       "      <td>173.570000</td>\n",
       "      <td>0.00000</td>\n",
       "      <td>0.310000</td>\n",
       "      <td>0.000000</td>\n",
       "      <td>0.190000</td>\n",
       "      <td>0.500000</td>\n",
       "      <td>0.580000</td>\n",
       "      <td>0.000000</td>\n",
       "    </tr>\n",
       "    <tr>\n",
       "      <th>25%</th>\n",
       "      <td>3.000000</td>\n",
       "      <td>447.270000</td>\n",
       "      <td>0.00000</td>\n",
       "      <td>8.740000</td>\n",
       "      <td>7.870000</td>\n",
       "      <td>4.470000</td>\n",
       "      <td>24.677500</td>\n",
       "      <td>32.277500</td>\n",
       "      <td>2.340000</td>\n",
       "    </tr>\n",
       "    <tr>\n",
       "      <th>50%</th>\n",
       "      <td>5.000000</td>\n",
       "      <td>700.950000</td>\n",
       "      <td>0.00000</td>\n",
       "      <td>16.450000</td>\n",
       "      <td>28.250000</td>\n",
       "      <td>7.990000</td>\n",
       "      <td>58.860000</td>\n",
       "      <td>75.775000</td>\n",
       "      <td>6.520000</td>\n",
       "    </tr>\n",
       "    <tr>\n",
       "      <th>75%</th>\n",
       "      <td>5.000000</td>\n",
       "      <td>1188.280000</td>\n",
       "      <td>0.27000</td>\n",
       "      <td>32.220000</td>\n",
       "      <td>54.360000</td>\n",
       "      <td>16.450000</td>\n",
       "      <td>117.605000</td>\n",
       "      <td>147.642500</td>\n",
       "      <td>15.830000</td>\n",
       "    </tr>\n",
       "    <tr>\n",
       "      <th>max</th>\n",
       "      <td>5.000000</td>\n",
       "      <td>23071.290000</td>\n",
       "      <td>457.76000</td>\n",
       "      <td>331.760000</td>\n",
       "      <td>406.270000</td>\n",
       "      <td>442.510000</td>\n",
       "      <td>2203.550000</td>\n",
       "      <td>2429.130000</td>\n",
       "      <td>352.620000</td>\n",
       "    </tr>\n",
       "  </tbody>\n",
       "</table>\n",
       "</div>"
      ],
      "text/plain": [
       "                aqi            co           no           no2            o3  \\\n",
       "count  23504.000000  23504.000000  23504.00000  23504.000000  23504.000000   \n",
       "mean       3.920354   1113.224543      6.00554     25.044104     35.059777   \n",
       "std        1.415490   1401.770372     24.50272     25.839242     31.901760   \n",
       "min        1.000000    173.570000      0.00000      0.310000      0.000000   \n",
       "25%        3.000000    447.270000      0.00000      8.740000      7.870000   \n",
       "50%        5.000000    700.950000      0.00000     16.450000     28.250000   \n",
       "75%        5.000000   1188.280000      0.27000     32.220000     54.360000   \n",
       "max        5.000000  23071.290000    457.76000    331.760000    406.270000   \n",
       "\n",
       "                so2         pm2_5          pm10           nh3  \n",
       "count  23504.000000  23504.000000  23504.000000  23504.000000  \n",
       "mean      15.971449     98.598310    121.848091     12.060212  \n",
       "std       23.943464    135.572391    160.429589     17.544759  \n",
       "min        0.190000      0.500000      0.580000      0.000000  \n",
       "25%        4.470000     24.677500     32.277500      2.340000  \n",
       "50%        7.990000     58.860000     75.775000      6.520000  \n",
       "75%       16.450000    117.605000    147.642500     15.830000  \n",
       "max      442.510000   2203.550000   2429.130000    352.620000  "
      ]
     },
     "execution_count": 6,
     "metadata": {},
     "output_type": "execute_result"
    }
   ],
   "source": [
    "df.describe()"
   ]
  },
  {
   "cell_type": "code",
   "execution_count": null,
   "id": "736bee16",
   "metadata": {},
   "outputs": [],
   "source": []
  },
  {
   "cell_type": "code",
   "execution_count": null,
   "id": "c8b43750",
   "metadata": {},
   "outputs": [],
   "source": []
  },
  {
   "cell_type": "code",
   "execution_count": 8,
   "id": "a5e96044",
   "metadata": {},
   "outputs": [
    {
     "data": {
      "text/plain": [
       "city     0\n",
       "date     0\n",
       "aqi      0\n",
       "co       0\n",
       "no       0\n",
       "no2      0\n",
       "o3       0\n",
       "so2      0\n",
       "pm2_5    0\n",
       "pm10     0\n",
       "nh3      0\n",
       "dtype: int64"
      ]
     },
     "execution_count": 8,
     "metadata": {},
     "output_type": "execute_result"
    }
   ],
   "source": [
    "df.isnull().sum()"
   ]
  },
  {
   "cell_type": "code",
   "execution_count": 9,
   "id": "74e7cb12",
   "metadata": {},
   "outputs": [
    {
     "data": {
      "text/plain": [
       "0        False\n",
       "1        False\n",
       "2        False\n",
       "3        False\n",
       "4        False\n",
       "         ...  \n",
       "23499    False\n",
       "23500    False\n",
       "23501    False\n",
       "23502    False\n",
       "23503    False\n",
       "Length: 23504, dtype: bool"
      ]
     },
     "execution_count": 9,
     "metadata": {},
     "output_type": "execute_result"
    }
   ],
   "source": [
    "df.duplicated()"
   ]
  },
  {
   "cell_type": "code",
   "execution_count": null,
   "id": "35c5127c",
   "metadata": {},
   "outputs": [
    {
     "data": {
      "text/plain": [
       "city\n",
       "Ahmedabad             4.115044\n",
       "Aizawl                2.783186\n",
       "Amaravati             3.702434\n",
       "Amritsar              4.782080\n",
       "Bengaluru             2.856195\n",
       "Bhopal                3.919248\n",
       "Brajrajnagar          4.284292\n",
       "Chandigarh            4.358407\n",
       "Chennai               3.768805\n",
       "Coimbatore            2.799779\n",
       "Delhi                 4.808628\n",
       "Ernakulam             2.823009\n",
       "Gurugram              4.682522\n",
       "Guwahati              4.096239\n",
       "Hyderabad             3.809735\n",
       "Jaipur                4.336283\n",
       "Jorapokhar            4.806416\n",
       "Kochi                 2.823009\n",
       "Kolkata               4.613938\n",
       "Lucknow               4.698009\n",
       "Mumbai                4.012168\n",
       "Patna                 4.756637\n",
       "Shillong              3.384956\n",
       "Talcher               4.037611\n",
       "Thiruvananthapuram    3.195796\n",
       "Visakhapatnam         3.674779\n",
       "Name: aqi, dtype: float64"
      ]
     },
     "execution_count": 10,
     "metadata": {},
     "output_type": "execute_result"
    }
   ],
   "source": [
    "df.groupby('city')['aqi'].mean()"
   ]
  },
  {
   "cell_type": "code",
   "execution_count": 11,
   "id": "41ad2bd9",
   "metadata": {},
   "outputs": [
    {
     "data": {
      "text/plain": [
       "city\n",
       "Ahmedabad             3720\n",
       "Aizawl                2516\n",
       "Amaravati             3347\n",
       "Amritsar              4323\n",
       "Bengaluru             2582\n",
       "Bhopal                3543\n",
       "Brajrajnagar          3873\n",
       "Chandigarh            3940\n",
       "Chennai               3407\n",
       "Coimbatore            2531\n",
       "Delhi                 4347\n",
       "Ernakulam             2552\n",
       "Gurugram              4233\n",
       "Guwahati              3703\n",
       "Hyderabad             3444\n",
       "Jaipur                3920\n",
       "Jorapokhar            4345\n",
       "Kochi                 2552\n",
       "Kolkata               4171\n",
       "Lucknow               4247\n",
       "Mumbai                3627\n",
       "Patna                 4300\n",
       "Shillong              3060\n",
       "Talcher               3650\n",
       "Thiruvananthapuram    2889\n",
       "Visakhapatnam         3322\n",
       "Name: aqi, dtype: int64"
      ]
     },
     "execution_count": 11,
     "metadata": {},
     "output_type": "execute_result"
    }
   ],
   "source": [
    "df.groupby('city')['aqi'].sum()"
   ]
  },
  {
   "cell_type": "code",
   "execution_count": 14,
   "id": "3178245f",
   "metadata": {},
   "outputs": [
    {
     "name": "stdout",
     "output_type": "stream",
     "text": [
      "Series:\n",
      " 0    10\n",
      "1    20\n",
      "2    30\n",
      "3    40\n",
      "Name: Numbers, dtype: int64\n",
      "\n",
      "DataFrame:\n",
      "       Name  Age      City\n",
      "0    Alice   25  New York\n",
      "1      Bob   30    London\n",
      "2  Charlie   35     Tokyo\n"
     ]
    }
   ],
   "source": [
    "import pandas as pd\n",
    "\n",
    "# Creating a Series\n",
    "s = pd.Series([10, 20, 30, 40], name=\"Numbers\")\n",
    "print(\"Series:\\n\", s)\n",
    "\n",
    "# Creating a DataFrame\n",
    "data = {\n",
    "    'Name': ['Alice', 'Bob', 'Charlie'],\n",
    "    'Age': [25, 30, 35],\n",
    "    'City': ['New York', 'London', 'Tokyo']\n",
    "}\n",
    "df = pd.DataFrame(data)\n",
    "print(\"\\nDataFrame:\\n\", df)\n"
   ]
  },
  {
   "cell_type": "code",
   "execution_count": 15,
   "id": "e09fc815",
   "metadata": {},
   "outputs": [
    {
     "name": "stdout",
     "output_type": "stream",
     "text": [
      "\n",
      "Series of Fruits:\n",
      " 0     Apple\n",
      "1     Mango\n",
      "2    Grapes\n",
      "3    Banana\n",
      "4    Orange\n",
      "Name: Fruits, dtype: object\n"
     ]
    }
   ],
   "source": [
    "f=pd.Series([\"Apple\",\"Mango\",\"Grapes\",\"Banana\",\"Orange\"],name=\"Fruits\")\n",
    "print(\"\\nSeries of Fruits:\\n\",f)"
   ]
  },
  {
   "cell_type": "code",
   "execution_count": 19,
   "id": "76fd8711",
   "metadata": {},
   "outputs": [],
   "source": [
    "data={\n",
    "    'fruit':[\"apple\",\"Mango\",\"Orange\",\"Watermelon\",\"Banana\"],\n",
    "    'colour':[\"Red\",\"yellow\",\"Orange\",\"green\",\"Yellow\"],\n",
    "    'Is_sweet':[\"No\",\"yes\",\"yes\",\"yes\",\"no\"]\n",
    "}\n",
    "data=pd.DataFrame(data)\n",
    "df=data.copy()"
   ]
  },
  {
   "cell_type": "code",
   "execution_count": 21,
   "id": "46e464ee",
   "metadata": {},
   "outputs": [
    {
     "name": "stdout",
     "output_type": "stream",
     "text": [
      "0         apple\n",
      "1         Mango\n",
      "2        Orange\n",
      "3    Watermelon\n",
      "4        Banana\n",
      "Name: fruit, dtype: object\n",
      "fruit       apple\n",
      "colour        Red\n",
      "Is_sweet       No\n",
      "Name: 0, dtype: object\n",
      "Red\n"
     ]
    }
   ],
   "source": [
    "# Access a column\n",
    "print(df[\"fruit\"])\n",
    "\n",
    "# Access the first row using iloc\n",
    "print(df.iloc[0])\n",
    "\n",
    "# Access a specific cell (row 0, column 'Color')\n",
    "print(df.loc[0, \"colour\"])\n"
   ]
  },
  {
   "cell_type": "code",
   "execution_count": 25,
   "id": "05501442",
   "metadata": {},
   "outputs": [
    {
     "name": "stdout",
     "output_type": "stream",
     "text": [
      "0         apple\n",
      "1         Mango\n",
      "2        Orange\n",
      "3    Watermelon\n",
      "4        Banana\n",
      "Name: fruit, dtype: object\n",
      "fruit        Mango\n",
      "colour      yellow\n",
      "Is_sweet       yes\n",
      "Name: 1, dtype: object\n",
      "yes\n",
      "Yellow\n"
     ]
    }
   ],
   "source": [
    "#Print only the \"Fruit\" column.\n",
    "print(df[\"fruit\"])\n",
    "\n",
    "#Print the second row (use iloc).\n",
    "print(df.iloc[1])\n",
    "\n",
    "#Print the sweetness (Is_Sweet) of the fourth fruit.\n",
    "print(df.loc[3,\"Is_sweet\"])\n",
    "\n",
    "print(df.loc[4,\"colour\"])\n"
   ]
  },
  {
   "cell_type": "code",
   "execution_count": 28,
   "id": "6b909b5b",
   "metadata": {},
   "outputs": [
    {
     "name": "stdout",
     "output_type": "stream",
     "text": [
      "Empty DataFrame\n",
      "Columns: [fruit, colour, Is_sweet]\n",
      "Index: []\n",
      "    fruit  colour Is_sweet\n",
      "4  Banana  Yellow       no\n",
      "Empty DataFrame\n",
      "Columns: [fruit, colour, Is_sweet]\n",
      "Index: []\n"
     ]
    }
   ],
   "source": [
    "# All sweet fruits\n",
    "print(df[df[\"Is_sweet\"] == True])\n",
    "\n",
    "# All yellow fruits\n",
    "print(df[df[\"colour\"] == \"Yellow\"])\n",
    "\n",
    "# Fruits that are sweet AND yellow\n",
    "print(df[(df[\"Is_sweet\"] == True) & (df[\"colour\"] == \"Yellow\")])\n"
   ]
  },
  {
   "cell_type": "code",
   "execution_count": 30,
   "id": "d604fd4e",
   "metadata": {},
   "outputs": [
    {
     "data": {
      "text/html": [
       "<div>\n",
       "<style scoped>\n",
       "    .dataframe tbody tr th:only-of-type {\n",
       "        vertical-align: middle;\n",
       "    }\n",
       "\n",
       "    .dataframe tbody tr th {\n",
       "        vertical-align: top;\n",
       "    }\n",
       "\n",
       "    .dataframe thead th {\n",
       "        text-align: right;\n",
       "    }\n",
       "</style>\n",
       "<table border=\"1\" class=\"dataframe\">\n",
       "  <thead>\n",
       "    <tr style=\"text-align: right;\">\n",
       "      <th></th>\n",
       "      <th>fruit</th>\n",
       "      <th>colour</th>\n",
       "      <th>Is_sweet</th>\n",
       "    </tr>\n",
       "  </thead>\n",
       "  <tbody>\n",
       "    <tr>\n",
       "      <th>4</th>\n",
       "      <td>Banana</td>\n",
       "      <td>Yellow</td>\n",
       "      <td>no</td>\n",
       "    </tr>\n",
       "  </tbody>\n",
       "</table>\n",
       "</div>"
      ],
      "text/plain": [
       "    fruit  colour Is_sweet\n",
       "4  Banana  Yellow       no"
      ]
     },
     "execution_count": 30,
     "metadata": {},
     "output_type": "execute_result"
    }
   ],
   "source": [
    "df[df[\"Is_sweet\"] == \"no\"]"
   ]
  },
  {
   "cell_type": "code",
   "execution_count": 33,
   "id": "c2137473",
   "metadata": {},
   "outputs": [
    {
     "data": {
      "text/html": [
       "<div>\n",
       "<style scoped>\n",
       "    .dataframe tbody tr th:only-of-type {\n",
       "        vertical-align: middle;\n",
       "    }\n",
       "\n",
       "    .dataframe tbody tr th {\n",
       "        vertical-align: top;\n",
       "    }\n",
       "\n",
       "    .dataframe thead th {\n",
       "        text-align: right;\n",
       "    }\n",
       "</style>\n",
       "<table border=\"1\" class=\"dataframe\">\n",
       "  <thead>\n",
       "    <tr style=\"text-align: right;\">\n",
       "      <th></th>\n",
       "      <th>fruit</th>\n",
       "      <th>colour</th>\n",
       "      <th>Is_sweet</th>\n",
       "    </tr>\n",
       "  </thead>\n",
       "  <tbody>\n",
       "    <tr>\n",
       "      <th>3</th>\n",
       "      <td>False</td>\n",
       "      <td>False</td>\n",
       "      <td>False</td>\n",
       "    </tr>\n",
       "  </tbody>\n",
       "</table>\n",
       "</div>"
      ],
      "text/plain": [
       "   fruit  colour  Is_sweet\n",
       "3  False   False     False"
      ]
     },
     "execution_count": 33,
     "metadata": {},
     "output_type": "execute_result"
    }
   ],
   "source": [
    "df[df['colour']=='red'] | df[df[\"colour\"]==\"green\"]"
   ]
  },
  {
   "cell_type": "code",
   "execution_count": 41,
   "id": "8b124196",
   "metadata": {},
   "outputs": [
    {
     "data": {
      "text/html": [
       "<div>\n",
       "<style scoped>\n",
       "    .dataframe tbody tr th:only-of-type {\n",
       "        vertical-align: middle;\n",
       "    }\n",
       "\n",
       "    .dataframe tbody tr th {\n",
       "        vertical-align: top;\n",
       "    }\n",
       "\n",
       "    .dataframe thead th {\n",
       "        text-align: right;\n",
       "    }\n",
       "</style>\n",
       "<table border=\"1\" class=\"dataframe\">\n",
       "  <thead>\n",
       "    <tr style=\"text-align: right;\">\n",
       "      <th></th>\n",
       "      <th>fruit</th>\n",
       "      <th>colour</th>\n",
       "      <th>Is_sweet</th>\n",
       "    </tr>\n",
       "  </thead>\n",
       "  <tbody>\n",
       "  </tbody>\n",
       "</table>\n",
       "</div>"
      ],
      "text/plain": [
       "Empty DataFrame\n",
       "Columns: [fruit, colour, Is_sweet]\n",
       "Index: []"
      ]
     },
     "execution_count": 41,
     "metadata": {},
     "output_type": "execute_result"
    }
   ],
   "source": [
    "df[(df[\"Is_sweet\"] == True) & (df[\"colour\"] != \"orange\")]\n"
   ]
  },
  {
   "cell_type": "code",
   "execution_count": 43,
   "id": "b3dec2e5",
   "metadata": {},
   "outputs": [
    {
     "data": {
      "text/html": [
       "<div>\n",
       "<style scoped>\n",
       "    .dataframe tbody tr th:only-of-type {\n",
       "        vertical-align: middle;\n",
       "    }\n",
       "\n",
       "    .dataframe tbody tr th {\n",
       "        vertical-align: top;\n",
       "    }\n",
       "\n",
       "    .dataframe thead th {\n",
       "        text-align: right;\n",
       "    }\n",
       "</style>\n",
       "<table border=\"1\" class=\"dataframe\">\n",
       "  <thead>\n",
       "    <tr style=\"text-align: right;\">\n",
       "      <th></th>\n",
       "      <th>fruit</th>\n",
       "      <th>colour</th>\n",
       "      <th>Is_sweet</th>\n",
       "    </tr>\n",
       "  </thead>\n",
       "  <tbody>\n",
       "    <tr>\n",
       "      <th>4</th>\n",
       "      <td>Banana</td>\n",
       "      <td>Yellow</td>\n",
       "      <td>no</td>\n",
       "    </tr>\n",
       "  </tbody>\n",
       "</table>\n",
       "</div>"
      ],
      "text/plain": [
       "    fruit  colour Is_sweet\n",
       "4  Banana  Yellow       no"
      ]
     },
     "execution_count": 43,
     "metadata": {},
     "output_type": "execute_result"
    }
   ],
   "source": [
    "df[df[\"Is_sweet\"] == \"no\"]"
   ]
  },
  {
   "cell_type": "code",
   "execution_count": 46,
   "id": "a3bbafc4",
   "metadata": {},
   "outputs": [
    {
     "data": {
      "text/html": [
       "<div>\n",
       "<style scoped>\n",
       "    .dataframe tbody tr th:only-of-type {\n",
       "        vertical-align: middle;\n",
       "    }\n",
       "\n",
       "    .dataframe tbody tr th {\n",
       "        vertical-align: top;\n",
       "    }\n",
       "\n",
       "    .dataframe thead th {\n",
       "        text-align: right;\n",
       "    }\n",
       "</style>\n",
       "<table border=\"1\" class=\"dataframe\">\n",
       "  <thead>\n",
       "    <tr style=\"text-align: right;\">\n",
       "      <th></th>\n",
       "      <th>fruit</th>\n",
       "      <th>colour</th>\n",
       "      <th>Is_sweet</th>\n",
       "    </tr>\n",
       "  </thead>\n",
       "  <tbody>\n",
       "  </tbody>\n",
       "</table>\n",
       "</div>"
      ],
      "text/plain": [
       "Empty DataFrame\n",
       "Columns: [fruit, colour, Is_sweet]\n",
       "Index: []"
      ]
     },
     "execution_count": 46,
     "metadata": {},
     "output_type": "execute_result"
    }
   ],
   "source": [
    "df[(df[\"Is_sweet\"] == False) & (df[\"colour\"] == \"yellow\")]"
   ]
  },
  {
   "cell_type": "code",
   "execution_count": 47,
   "id": "df17322d",
   "metadata": {},
   "outputs": [],
   "source": [
    "df = pd.DataFrame({\n",
    "    'Fruit': [\"Apple\", \"Mango\", \"Orange\", \"Watermelon\", \"Banana\"],\n",
    "    'Color': [\"Red\", \"Yellow\", \"Orange\", \"Green\", \"Yellow\"],\n",
    "    'Is_Sweet': [False, True, True, True, False]\n",
    "})\n",
    "\n"
   ]
  },
  {
   "cell_type": "code",
   "execution_count": 48,
   "id": "910cad98",
   "metadata": {},
   "outputs": [],
   "source": [
    "df[\"Fruit_Length\"]=df[\"Fruit\"].apply(len)"
   ]
  },
  {
   "cell_type": "code",
   "execution_count": 49,
   "id": "e0c2d175",
   "metadata": {},
   "outputs": [],
   "source": [
    "df['Taste']=df['Is_Sweet'].map({True:'Sweet',False:'Not sweet'})"
   ]
  },
  {
   "cell_type": "code",
   "execution_count": 50,
   "id": "b774e4bb",
   "metadata": {},
   "outputs": [],
   "source": [
    "df['Fruit']=df['Fruit'].str.lower()"
   ]
  },
  {
   "cell_type": "code",
   "execution_count": 51,
   "id": "ac9cc6c1",
   "metadata": {},
   "outputs": [
    {
     "data": {
      "text/html": [
       "<div>\n",
       "<style scoped>\n",
       "    .dataframe tbody tr th:only-of-type {\n",
       "        vertical-align: middle;\n",
       "    }\n",
       "\n",
       "    .dataframe tbody tr th {\n",
       "        vertical-align: top;\n",
       "    }\n",
       "\n",
       "    .dataframe thead th {\n",
       "        text-align: right;\n",
       "    }\n",
       "</style>\n",
       "<table border=\"1\" class=\"dataframe\">\n",
       "  <thead>\n",
       "    <tr style=\"text-align: right;\">\n",
       "      <th></th>\n",
       "      <th>Fruit</th>\n",
       "      <th>Color</th>\n",
       "      <th>Is_Sweet</th>\n",
       "      <th>Fruit_Length</th>\n",
       "      <th>Taste</th>\n",
       "    </tr>\n",
       "  </thead>\n",
       "  <tbody>\n",
       "    <tr>\n",
       "      <th>0</th>\n",
       "      <td>apple</td>\n",
       "      <td>Red</td>\n",
       "      <td>False</td>\n",
       "      <td>5</td>\n",
       "      <td>Not sweet</td>\n",
       "    </tr>\n",
       "    <tr>\n",
       "      <th>1</th>\n",
       "      <td>mango</td>\n",
       "      <td>Yellow</td>\n",
       "      <td>True</td>\n",
       "      <td>5</td>\n",
       "      <td>Sweet</td>\n",
       "    </tr>\n",
       "    <tr>\n",
       "      <th>2</th>\n",
       "      <td>orange</td>\n",
       "      <td>Orange</td>\n",
       "      <td>True</td>\n",
       "      <td>6</td>\n",
       "      <td>Sweet</td>\n",
       "    </tr>\n",
       "    <tr>\n",
       "      <th>3</th>\n",
       "      <td>watermelon</td>\n",
       "      <td>Green</td>\n",
       "      <td>True</td>\n",
       "      <td>10</td>\n",
       "      <td>Sweet</td>\n",
       "    </tr>\n",
       "    <tr>\n",
       "      <th>4</th>\n",
       "      <td>banana</td>\n",
       "      <td>Yellow</td>\n",
       "      <td>False</td>\n",
       "      <td>6</td>\n",
       "      <td>Not sweet</td>\n",
       "    </tr>\n",
       "  </tbody>\n",
       "</table>\n",
       "</div>"
      ],
      "text/plain": [
       "        Fruit   Color  Is_Sweet  Fruit_Length      Taste\n",
       "0       apple     Red     False             5  Not sweet\n",
       "1       mango  Yellow      True             5      Sweet\n",
       "2      orange  Orange      True             6      Sweet\n",
       "3  watermelon   Green      True            10      Sweet\n",
       "4      banana  Yellow     False             6  Not sweet"
      ]
     },
     "execution_count": 51,
     "metadata": {},
     "output_type": "execute_result"
    }
   ],
   "source": [
    "df"
   ]
  },
  {
   "cell_type": "code",
   "execution_count": null,
   "id": "a36bbc1a",
   "metadata": {},
   "outputs": [],
   "source": []
  }
 ],
 "metadata": {
  "kernelspec": {
   "display_name": "Python 3",
   "language": "python",
   "name": "python3"
  },
  "language_info": {
   "codemirror_mode": {
    "name": "ipython",
    "version": 3
   },
   "file_extension": ".py",
   "mimetype": "text/x-python",
   "name": "python",
   "nbconvert_exporter": "python",
   "pygments_lexer": "ipython3",
   "version": "3.12.0"
  }
 },
 "nbformat": 4,
 "nbformat_minor": 5
}
