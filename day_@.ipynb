{
 "cells": [
  {
   "cell_type": "code",
   "execution_count": 1,
   "id": "86c7e90f",
   "metadata": {},
   "outputs": [
    {
     "name": "stdout",
     "output_type": "stream",
     "text": [
      "hello world\n"
     ]
    }
   ],
   "source": [
    "print(\"hello world\")"
   ]
  },
  {
   "cell_type": "code",
   "execution_count": 2,
   "id": "3fa27a47",
   "metadata": {},
   "outputs": [
    {
     "name": "stdout",
     "output_type": "stream",
     "text": [
      "<class 'dict'>\n"
     ]
    }
   ],
   "source": [
    "# create dictionary \n",
    "my_dict={}\n",
    "print(type(my_dict))"
   ]
  },
  {
   "cell_type": "code",
   "execution_count": 3,
   "id": "5da85812",
   "metadata": {},
   "outputs": [
    {
     "name": "stdout",
     "output_type": "stream",
     "text": [
      "{}\n"
     ]
    }
   ],
   "source": [
    "empty_dict=dict()\n",
    "print((empty_dict))"
   ]
  },
  {
   "cell_type": "code",
   "execution_count": 4,
   "id": "beb3fef8",
   "metadata": {},
   "outputs": [
    {
     "name": "stdout",
     "output_type": "stream",
     "text": [
      "{'name': 'John', 'age': 20, 'grade': 'A'}\n"
     ]
    }
   ],
   "source": [
    "students={\"name\":\"John\", \"age\":20, \"grade\":\"A\"}\n",
    "print(students)"
   ]
  },
  {
   "cell_type": "code",
   "execution_count": 6,
   "id": "130b7b7e",
   "metadata": {},
   "outputs": [
    {
     "name": "stdout",
     "output_type": "stream",
     "text": [
      "20\n"
     ]
    }
   ],
   "source": [
    "print(students[\"age\"])"
   ]
  },
  {
   "cell_type": "code",
   "execution_count": 7,
   "id": "489ab76e",
   "metadata": {},
   "outputs": [
    {
     "name": "stdout",
     "output_type": "stream",
     "text": [
      "A\n"
     ]
    }
   ],
   "source": [
    "print(students[\"grade\"])"
   ]
  },
  {
   "cell_type": "code",
   "execution_count": 8,
   "id": "4f80fdb9",
   "metadata": {},
   "outputs": [
    {
     "name": "stdout",
     "output_type": "stream",
     "text": [
      "20\n"
     ]
    }
   ],
   "source": [
    "print(students.get(\"age\"))"
   ]
  },
  {
   "cell_type": "code",
   "execution_count": 9,
   "id": "728dd060",
   "metadata": {},
   "outputs": [],
   "source": [
    "#modifying dictionary\n",
    "students[\"age\"]=21"
   ]
  },
  {
   "cell_type": "code",
   "execution_count": 10,
   "id": "6e6c1a86",
   "metadata": {},
   "outputs": [
    {
     "name": "stdout",
     "output_type": "stream",
     "text": [
      "21\n"
     ]
    }
   ],
   "source": [
    "print(students[\"age\"])"
   ]
  },
  {
   "cell_type": "code",
   "execution_count": 11,
   "id": "ae1de47d",
   "metadata": {},
   "outputs": [
    {
     "name": "stdout",
     "output_type": "stream",
     "text": [
      "{'name': 'John', 'age': 21, 'grade': 'A', 'address': '123 Main St'}\n"
     ]
    }
   ],
   "source": [
    "students[\"address\"]=\"123 Main St\"\n",
    "print(students)"
   ]
  },
  {
   "cell_type": "code",
   "execution_count": 12,
   "id": "a776e032",
   "metadata": {},
   "outputs": [
    {
     "name": "stdout",
     "output_type": "stream",
     "text": [
      "dict_keys(['name', 'age', 'grade', 'address'])\n",
      "dict_values(['John', 21, 'A', '123 Main St'])\n",
      "dict_items([('name', 'John'), ('age', 21), ('grade', 'A'), ('address', '123 Main St')])\n"
     ]
    }
   ],
   "source": [
    "keys=students.keys()\n",
    "values=students.values()\n",
    "items=students.items()\n",
    "print(keys)\n",
    "print(values)\n",
    "print(items)"
   ]
  },
  {
   "cell_type": "code",
   "execution_count": 13,
   "id": "b58645b6",
   "metadata": {},
   "outputs": [
    {
     "name": "stdout",
     "output_type": "stream",
     "text": [
      "name\n",
      "age\n",
      "grade\n",
      "address\n"
     ]
    }
   ],
   "source": [
    "for key in students.keys():\n",
    "    print(key)"
   ]
  },
  {
   "cell_type": "code",
   "execution_count": 14,
   "id": "948d77ac",
   "metadata": {},
   "outputs": [
    {
     "name": "stdout",
     "output_type": "stream",
     "text": [
      "John\n",
      "21\n",
      "A\n",
      "123 Main St\n"
     ]
    }
   ],
   "source": [
    "for values in students.values():\n",
    "    print(values)"
   ]
  },
  {
   "cell_type": "code",
   "execution_count": 15,
   "id": "d2914231",
   "metadata": {},
   "outputs": [
    {
     "name": "stdout",
     "output_type": "stream",
     "text": [
      "name: John\n",
      "age: 21\n",
      "grade: A\n",
      "address: 123 Main St\n"
     ]
    }
   ],
   "source": [
    "for key, value in students.items():\n",
    "    print(f\"{key}: {value}\")"
   ]
  },
  {
   "cell_type": "code",
   "execution_count": 16,
   "id": "678cd4f3",
   "metadata": {},
   "outputs": [],
   "source": [
    "#nested dictionary \n",
    "students={\n",
    "    \"student1\": {\"name\": \"John\", \"age\": 20, \"grade\": \"A\"},\n",
    "    \"student2\": {\"name\": \"Jane\", \"age\": 22, \"grade\": \"B\"}\n",
    "}"
   ]
  },
  {
   "cell_type": "code",
   "execution_count": 17,
   "id": "291115e1",
   "metadata": {},
   "outputs": [
    {
     "data": {
      "text/plain": [
       "{'student1': {'name': 'John', 'age': 20, 'grade': 'A'},\n",
       " 'student2': {'name': 'Jane', 'age': 22, 'grade': 'B'}}"
      ]
     },
     "execution_count": 17,
     "metadata": {},
     "output_type": "execute_result"
    }
   ],
   "source": [
    "students"
   ]
  },
  {
   "cell_type": "code",
   "execution_count": 19,
   "id": "975040bb",
   "metadata": {},
   "outputs": [
    {
     "name": "stdout",
     "output_type": "stream",
     "text": [
      "John\n"
     ]
    }
   ],
   "source": [
    "print(students[\"student1\"][\"name\"])"
   ]
  },
  {
   "cell_type": "code",
   "execution_count": null,
   "id": "e6d49728",
   "metadata": {},
   "outputs": [],
   "source": []
  }
 ],
 "metadata": {
  "kernelspec": {
   "display_name": "Python 3",
   "language": "python",
   "name": "python3"
  },
  "language_info": {
   "codemirror_mode": {
    "name": "ipython",
    "version": 3
   },
   "file_extension": ".py",
   "mimetype": "text/x-python",
   "name": "python",
   "nbconvert_exporter": "python",
   "pygments_lexer": "ipython3",
   "version": "3.12.0"
  }
 },
 "nbformat": 4,
 "nbformat_minor": 5
}
