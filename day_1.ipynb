{
 "cells": [
  {
   "cell_type": "markdown",
   "id": "e1e1bbe2",
   "metadata": {},
   "source": [
    "conditional satement , varibles and data types , loops , functions "
   ]
  },
  {
   "cell_type": "code",
   "execution_count": 1,
   "id": "aed2238a",
   "metadata": {},
   "outputs": [
    {
     "name": "stdout",
     "output_type": "stream",
     "text": [
      "The number is positive 10\n"
     ]
    }
   ],
   "source": [
    "# Positive, Negative or Zero \n",
    "n=int(input(\"\"))\n",
    "if(n>0):\n",
    "    print(\"The number is positive\",n)\n",
    "elif(n<0):\n",
    "    print(\"the number is negative\",n)\n",
    "else:\n",
    "    print(\"The number is zero\",n)\n"
   ]
  },
  {
   "cell_type": "code",
   "execution_count": null,
   "id": "3329f7d3",
   "metadata": {},
   "outputs": [],
   "source": [
    "#Largest of Three Numbers\n",
    "x1=int(input(\"Enter First Number \"))\n",
    "x2=int(input(\"Enter Second Number \"))\n",
    "x3=int(input(\"Enter Third Number \"))\n",
    "if(x1>x2 and x1>x3):\n",
    "    print(\"The largest number is \",x1)\n",
    "elif(x2>x1 and x2>x3):\n",
    "    print(\"The largest number is \",x2)\n",
    "else:\n",
    "    print(\"The largest number is \",x3)"
   ]
  },
  {
   "cell_type": "code",
   "execution_count": null,
   "id": "c37871da",
   "metadata": {},
   "outputs": [],
   "source": [
    "#Student Grade Calculator\n",
    "\n",
    "#Input: Marks (0–100)\n",
    "\n",
    "#>=90: A\n",
    "\n",
    "#>=80: B\n",
    "\n",
    "#>=70: C\n",
    "\n",
    "#<70: F\n",
    "x=int()\n"
   ]
  }
 ],
 "metadata": {
  "kernelspec": {
   "display_name": "Python 3",
   "language": "python",
   "name": "python3"
  },
  "language_info": {
   "codemirror_mode": {
    "name": "ipython",
    "version": 3
   },
   "file_extension": ".py",
   "mimetype": "text/x-python",
   "name": "python",
   "nbconvert_exporter": "python",
   "pygments_lexer": "ipython3",
   "version": "3.12.0"
  }
 },
 "nbformat": 4,
 "nbformat_minor": 5
}
